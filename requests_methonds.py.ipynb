{
 "cells": [
  {
   "cell_type": "code",
   "execution_count": 2,
   "metadata": {},
   "outputs": [
    {
     "name": "stdout",
     "output_type": "stream",
     "text": [
      "<!DOCTYPE html>\r\n",
      "<html>\r\n",
      "<body>\r\n",
      "\r\n",
      "<h1>This is a Test Page</h1>\r\n",
      "\r\n",
      "</body>\r\n",
      "</html>\n"
     ]
    }
   ],
   "source": [
    "import requests\n",
    "\n",
    "x = requests.get('https://w3schools.com/python/demopage.htm')\n",
    "\n",
    "print(x.text)"
   ]
  },
  {
   "cell_type": "code",
   "execution_count": 3,
   "metadata": {},
   "outputs": [
    {
     "name": "stdout",
     "output_type": "stream",
     "text": [
      "ascii\n"
     ]
    }
   ],
   "source": [
    "url = 'https://w3schools.com/python/demopage.htm'\n",
    "\n",
    "x = requests.get(url)\n",
    "print(x.apparent_encoding)\n"
   ]
  },
  {
   "cell_type": "code",
   "execution_count": 4,
   "metadata": {},
   "outputs": [
    {
     "name": "stdout",
     "output_type": "stream",
     "text": [
      "<!DOCTYPE html>\r\n",
      "<html>\r\n",
      "<body>\r\n",
      "\r\n",
      "<h1>This is a Test Page</h1>\r\n",
      "\r\n",
      "</body>\r\n",
      "</html>\n"
     ]
    }
   ],
   "source": [
    "url = 'https://w3schools.com/python/demopage.htm'\n",
    "\n",
    "x = requests.get(url)\n",
    "\n",
    "print(x.content)"
   ]
  },
  {
   "cell_type": "code",
   "execution_count": 4,
   "metadata": {},
   "outputs": [
    {
     "name": "stdout",
     "output_type": "stream",
     "text": [
      "0:00:00.357918\n"
     ]
    }
   ],
   "source": [
    "url = 'https://w3schools.com/python/demopage.htm'\n",
    "\n",
    "x = requests.get(url) #Returns a timedelta object with the time elapsed from sending the request to the arrival of the response\n",
    "\n",
    "print(x.elapsed)\n"
   ]
  },
  {
   "cell_type": "code",
   "execution_count": 6,
   "metadata": {},
   "outputs": [
    {
     "name": "stdout",
     "output_type": "stream",
     "text": [
      "ISO-8859-1\n"
     ]
    }
   ],
   "source": [
    "\n",
    "url = 'https://w3schools.com/python/demopage.htm'\n",
    "\n",
    "x = requests.get(url) #Returns the encoding used to decode r.text\n",
    "\n",
    "print(x.encoding)\n"
   ]
  },
  {
   "cell_type": "code",
   "execution_count": 7,
   "metadata": {},
   "outputs": [
    {
     "name": "stdout",
     "output_type": "stream",
     "text": [
      "{'Content-Length': '178', 'X-Cache': 'HIT', 'Content-Security-Policy': \"frame-ancestors 'self' https://mycourses.w3schools.com;\", 'Content-Encoding': 'gzip', 'Accept-Ranges': 'bytes', 'X-Powered-By': 'ASP.NET', 'Vary': 'Accept-Encoding', 'Server': 'ECS (ndl/D35F)', 'Last-Modified': 'Tue, 04 Jun 2019 11:18:49 GMT', 'Etag': '\"1aa65348c71ad51:0\"', 'Cache-Control': 'public,max-age=14400,public', 'Date': 'Fri, 14 May 2021 19:05:43 GMT', 'X-Content-Security-Policy': \"frame-ancestors 'self' https://mycourses.w3schools.com;\", 'Content-Type': 'text/html', 'Age': '10529'}\n"
     ]
    }
   ],
   "source": [
    "url = 'https://w3schools.com/python/demopage.htm'\n",
    "\n",
    "x = requests.get(url) #Returns a dictionary of response headers\n",
    "\n",
    "print(x.headers)\n"
   ]
  },
  {
   "cell_type": "code",
   "execution_count": 10,
   "metadata": {},
   "outputs": [
    {
     "name": "stdout",
     "output_type": "stream",
     "text": [
      "https://httpbin.org/get?key1=value1\n"
     ]
    }
   ],
   "source": [
    "payload = {'key1': 'value1'}\n",
    "res = requests.get('https://httpbin.org/get', params = payload)\n",
    "print(res.url)"
   ]
  },
  {
   "cell_type": "code",
   "execution_count": 13,
   "metadata": {},
   "outputs": [
    {
     "name": "stdout",
     "output_type": "stream",
     "text": [
      "{\n",
      "  \"args\": {}, \n",
      "  \"data\": \"\", \n",
      "  \"files\": {}, \n",
      "  \"form\": {\n",
      "    \"key1\": \"value1\"\n",
      "  }, \n",
      "  \"headers\": {\n",
      "    \"Accept\": \"*/*\", \n",
      "    \"Accept-Encoding\": \"gzip, deflate\", \n",
      "    \"Content-Length\": \"11\", \n",
      "    \"Content-Type\": \"application/x-www-form-urlencoded\", \n",
      "    \"Host\": \"httpbin.org\", \n",
      "    \"User-Agent\": \"python-requests/2.23.0\", \n",
      "    \"X-Amzn-Trace-Id\": \"Root=1-609fdb1e-6059954a3e96d19d46c7d7fb\"\n",
      "  }, \n",
      "  \"json\": null, \n",
      "  \"origin\": \"117.96.189.69\", \n",
      "  \"url\": \"https://httpbin.org/post\"\n",
      "}\n",
      "\n"
     ]
    }
   ],
   "source": [
    "payload = {'key1': 'value1'}\n",
    "res = requests.post('https://httpbin.org/post', payload)\n",
    "print(res.text)"
   ]
  },
  {
   "cell_type": "code",
   "execution_count": 10,
   "metadata": {},
   "outputs": [
    {
     "name": "stdout",
     "output_type": "stream",
     "text": [
      "False\n"
     ]
    }
   ],
   "source": [
    "\n",
    "url = 'https://www.w3schools.com/python/demopage.htm'\n",
    "\n",
    "x = requests.get(url) #Returns True if the response was redirected, otherwise False\n",
    "\n",
    "print(x.is_redirect)"
   ]
  },
  {
   "cell_type": "code",
   "execution_count": 12,
   "metadata": {},
   "outputs": [
    {
     "name": "stdout",
     "output_type": "stream",
     "text": [
      "<generator object iter_slices at 0x7f29c04e55a0>\n",
      "<\n",
      "!\n",
      "D\n",
      "O\n",
      "C\n",
      "T\n",
      "Y\n",
      "P\n",
      "E\n",
      " \n",
      "h\n",
      "t\n",
      "m\n",
      "l\n",
      ">\n",
      "\r\n",
      "\n",
      "\n",
      "<\n",
      "h\n",
      "t\n",
      "m\n",
      "l\n",
      ">\n",
      "\r\n",
      "\n",
      "\n",
      "<\n",
      "b\n",
      "o\n",
      "d\n",
      "y\n",
      ">\n",
      "\r\n",
      "\n",
      "\n",
      "\r\n",
      "\n",
      "\n",
      "<\n",
      "h\n",
      "1\n",
      ">\n",
      "T\n",
      "h\n",
      "i\n",
      "s\n",
      " \n",
      "i\n",
      "s\n",
      " \n",
      "a\n",
      " \n",
      "T\n",
      "e\n",
      "s\n",
      "t\n",
      " \n",
      "P\n",
      "a\n",
      "g\n",
      "e\n",
      "<\n",
      "/\n",
      "h\n",
      "1\n",
      ">\n",
      "\r\n",
      "\n",
      "\n",
      "\r\n",
      "\n",
      "\n",
      "<\n",
      "/\n",
      "b\n",
      "o\n",
      "d\n",
      "y\n",
      ">\n",
      "\r\n",
      "\n",
      "\n",
      "<\n",
      "/\n",
      "h\n",
      "t\n",
      "m\n",
      "l\n",
      ">\n"
     ]
    }
   ],
   "source": [
    "url = 'https://www.w3schools.com/python/demopage.htm'\n",
    "\n",
    "x = requests.get(url)\n",
    "\n",
    "#return an iterator, one item for each character:\n",
    "print(x.iter_content()) #Iterates over the response\n",
    "\n",
    "#looping through the iterator:\n",
    "for c in x.iter_content(): #Iterates over the response\n",
    "  print(c)"
   ]
  },
  {
   "cell_type": "code",
   "execution_count": 5,
   "metadata": {},
   "outputs": [
    {
     "data": {
      "text/plain": [
       "{u'firstname': u'John', u'lastname': u'Doe'}"
      ]
     },
     "execution_count": 5,
     "metadata": {},
     "output_type": "execute_result"
    }
   ],
   "source": [
    "url = 'https://www.w3schools.com/python/demopage.js'\n",
    "\n",
    "x = requests.get(url)\n",
    "\n",
    "x.json() #Returns a JSON object of the result (if the result was written in JSON format, if not it raises an error)"
   ]
  },
  {
   "cell_type": "code",
   "execution_count": 7,
   "metadata": {},
   "outputs": [
    {
     "data": {
      "text/plain": [
       "200"
      ]
     },
     "execution_count": 7,
     "metadata": {},
     "output_type": "execute_result"
    }
   ],
   "source": [
    "\n",
    "r = requests.get('https://www.python.org')\n",
    "r.status_code #returns a status for the page if found or not"
   ]
  },
  {
   "cell_type": "code",
   "execution_count": 9,
   "metadata": {},
   "outputs": [
    {
     "data": {
      "text/plain": [
       "False"
      ]
     },
     "execution_count": 9,
     "metadata": {},
     "output_type": "execute_result"
    }
   ],
   "source": [
    "b'Apple is a programming language' in r.content"
   ]
  },
  {
   "cell_type": "code",
   "execution_count": null,
   "metadata": {},
   "outputs": [],
   "source": []
  }
 ],
 "metadata": {
  "kernelspec": {
   "display_name": "Python 3",
   "language": "python",
   "name": "python3"
  },
  "language_info": {
   "codemirror_mode": {
    "name": "ipython",
    "version": 2
   },
   "file_extension": ".py",
   "mimetype": "text/x-python",
   "name": "python",
   "nbconvert_exporter": "python",
   "pygments_lexer": "ipython2",
   "version": "2.7.17"
  }
 },
 "nbformat": 4,
 "nbformat_minor": 2
}
